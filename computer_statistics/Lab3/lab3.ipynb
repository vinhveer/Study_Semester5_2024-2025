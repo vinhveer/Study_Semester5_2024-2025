{
 "cells": [
  {
   "cell_type": "markdown",
   "metadata": {},
   "source": [
    "# Lab 3"
   ]
  },
  {
   "cell_type": "markdown",
   "metadata": {},
   "source": [
    "## Bài **1**"
   ]
  },
  {
   "cell_type": "markdown",
   "metadata": {},
   "source": [
    "### Đọc dữ liệu từ file babies.txt"
   ]
  },
  {
   "cell_type": "code",
   "execution_count": 12,
   "metadata": {},
   "outputs": [],
   "source": [
    "import pandas as pd\n",
    "import numpy as np\n",
    "\n",
    "data = pd.read_csv('babies.txt', sep=r'\\s+', header=0)\n",
    "\n",
    "df = pd.DataFrame(data)"
   ]
  },
  {
   "cell_type": "markdown",
   "metadata": {},
   "source": [
    "### Mô tả dữ liệu bằng các giá trị số"
   ]
  },
  {
   "cell_type": "markdown",
   "metadata": {},
   "source": [
    "#### **Bước 1:** Lọc dữ liệu và tính các đại lượng\n",
    "*(Cân nặng của trẻ trong trường hợp bà mẹ hút thuốc khi mang thai và cân nặng của trẻ trong trường hợp bà mẹ không hút thuốc khi mang thai)*"
   ]
  },
  {
   "cell_type": "code",
   "execution_count": 23,
   "metadata": {},
   "outputs": [],
   "source": [
    "# Create filtered DataFrames for smokers and non-smokers\n",
    "d1 = df[df['smoke'] == 1]  # smokers\n",
    "d2 = df[df['smoke'] == 0]  # non-smokers\n",
    "\n",
    "# Define the index for statistical metrics\n",
    "index = ['mean', 'std', 'min', 'max', 'var', 'median', \n",
    "         'Quantile 0%', 'Quantile 25%', 'Quantile 50%', \n",
    "         'Quantile 75%', 'IQR', 'skewness', 'kurtosis']\n",
    "\n",
    "# Get birth weight (bwt) data for smokers\n",
    "a = d1['bwt']\n",
    "x = [\n",
    "    a.mean(), a.std(), a.min(), a.max(), a.var(), a.median(), \n",
    "    a.quantile(0), a.quantile(0.25), a.quantile(0.5), a.quantile(0.75), \n",
    "    a.quantile(0.75) - a.quantile(0.25),  # IQR\n",
    "    a.skew(), a.kurt()\n",
    "]\n",
    "\n",
    "# Get birth weight (bwt) data for non-smokers\n",
    "b = d2['bwt']\n",
    "y = [\n",
    "    b.mean(), b.std(), b.min(), b.max(), b.var(), b.median(), \n",
    "    b.quantile(0), b.quantile(0.25), b.quantile(0.5), b.quantile(0.75), \n",
    "    b.quantile(0.75) - b.quantile(0.25),  # IQR\n",
    "    b.skew(), b.kurt()\n",
    "]\n",
    "\n",
    "# Create the result DataFrame\n",
    "df_result = pd.DataFrame({\n",
    "    'smoke': x,\n",
    "    'nonsmoke': y\n",
    "}, index=index)\n",
    "\n",
    "df_result\n"
   ]
  },
  {
   "cell_type": "markdown",
   "metadata": {},
   "source": [
    "#### **Bước 2:** Phân tích dữ liệu dựa trên các đại lượng vừa tính."
   ]
  },
  {
   "cell_type": "markdown",
   "metadata": {},
   "source": [
    "##### a. Xét tập dữ liệu ứng với trường hợp bà mẹ có hút thuốc"
   ]
  },
  {
   "cell_type": "markdown",
   "metadata": {},
   "source": [
    "**Vị trí tập trung của dữ liệu:** khoảng giá trị: $114 - 115$\n",
    "\n",
    "**Tính biến động của dữ liệu:**\n",
    "- ***Phương sai (variance):*** $var= 327.571835$\n",
    "- ***Độ lệch chuẩn (std):*** $std= 18.098946$\n",
    "- ***Khoảng giá trị:*** $min = 58, max = 163 \\to range = 105$\n",
    "- ***Khoảng cách giữa 2 phần tư vị:*** $IQR = Q_3 - Q_1 = 126 - 102 = 24$\n",
    "\n",
    "**Nhận xét:** Như vậy dữ liệu phân bố gần nhau.\n",
    "**Hình dạng phân bố của dữ liệu:**\n",
    "- ***Độ lệch:*** $Skewness= -0.033700$\n",
    "- ***Độ bè nhọn của đỉnh dữ liệu:*** $Kurtosis= 0.000408$\n",
    "\n",
    "**Nhận xét:** Như vậy dữ liệu hơi lệch về phía trái, và đỉnh nhọn, hai bên giảm với tốc độ vừa phải."
   ]
  },
  {
   "cell_type": "markdown",
   "metadata": {},
   "source": [
    "##### b. Xét tập dữ liệu ứng với trường hợp bà mẹ không hút thuốc"
   ]
  },
  {
   "cell_type": "markdown",
   "metadata": {},
   "source": [
    "**Vị trí tập trung của dữ liệu:** khoảng giá trị: $123$\n",
    "\n",
    "**Tính biến động của dữ liệu:**\n",
    "- ***Phương sai (variance):*** $var= 302.714371$\n",
    "- ***Độ lệch chuẩn (std):*** $std= 17.398689$\n",
    "- ***Khoảng giá trị:*** $min = 55, max = 176 \\to range = 121$\n",
    "- ***Khoảng cách giữa 2 phần tư vị:*** $IQR = Q_3 - Q_1 = 134 - 113 = 21$\n",
    "\n",
    "**Nhận xét:** Như vậy dữ liệu phân bố gần nhau.\n",
    "**Hình dạng phân bố của dữ liệu:**\n",
    "- ***Độ lệch:*** $Skewness=-0.187363$\n",
    "- ***Độ bè nhọn của đỉnh dữ liệu:*** $Kurtosis=1.052213$\n",
    "\n",
    "**Nhận xét:** Như vậy dữ liệu hơi lệch về phía trái, và đỉnh nhọn, hai bên giảm với tốc độ vừa phải."
   ]
  },
  {
   "cell_type": "markdown",
   "metadata": {},
   "source": [
    "#### **Bước 3:** So sánh các giá trị thống kê mô tả của hai tập dữ liệu."
   ]
  },
  {
   "cell_type": "markdown",
   "metadata": {},
   "source": [
    "**Sự khác biệt về vị trí tập trung dữ liệu:** Chênh lệch khoảng \\(123 - 115 = 8\\)\n",
    "\n",
    "**Nhận xét:** Khác biệt không đáng kể.\n",
    "\n",
    "**Sự khác biệt về tính biến động của dữ liệu được thể hiện qua bảng sau:**\n",
    "\n",
    "| Thông số      | TH1: Bà mẹ hút thuốc | TH2: Bà mẹ không hút thuốc | Chênh lệch (TH2 - TH1) |\n",
    "|---------------|----------------------|----------------------------|------------------------|\n",
    "| Std           | 18.10                | 17.40                      | -0.70                  |\n",
    "| Var           | 327.57               | 302.71                     | -24.86                 |\n",
    "| Range         | \\(163 - 58 = 105\\)   | \\(176 - 55 = 121\\)         | 16                     |\n",
    "| IQR           | \\(126 - 102 = 24\\)   | \\(134 - 113 = 21\\)         | -3                     |\n",
    "\n",
    "Dữ liệu trong trường hợp bà mẹ không hút thuốc có phân bố rộng hơn nhưng phần dữ liệu tập trung lại hẹp hơn so với trường hợp bà mẹ có hút thuốc. Sự biến động của dữ liệu trong hai trường hợp không khác biệt nhiều.\n",
    "\n",
    "**Sự khác biệt về hình dạng phân bố của dữ liệu được thể hiện qua bảng sau:**\n",
    "\n",
    "| Thông số   | TH1: Bà mẹ hút thuốc   | TH2: Bà mẹ không hút thuốc | Chênh lệch (TH2 - TH1) |\n",
    "|------------|------------------------|----------------------------|------------------------|\n",
    "| Skewness   | -0.0336                | -0.1870                    | -0.1534                |\n",
    "| Kurtosis   | 2.9880                 | 4.0371                     | 1.0490                 |\n",
    "\n",
    "\n",
    "**$\\to$ Nhận xét:** trường hợp bà mẹ hút thuốc có phân bố dữ liệu nhọn hơn, đối xứng hơn so với trường hợp không hút thuốc. Cả 2 trường hợp đều hơi lệch về trái.\n"
   ]
  },
  {
   "cell_type": "markdown",
   "metadata": {},
   "source": [
    "### Biểu diễn hình học của dữ liệu"
   ]
  },
  {
   "cell_type": "markdown",
   "metadata": {},
   "source": [
    "#### Dữ liệu cân nặng của trẻ trong trường hợp bà mẹ hút thuốc"
   ]
  },
  {
   "cell_type": "markdown",
   "metadata": {},
   "source": [
    "##### Histogram"
   ]
  },
  {
   "cell_type": "code",
   "execution_count": 31,
   "metadata": {},
   "outputs": [],
   "source": [
    "import matplotlib.pyplot as plt\n",
    "\n",
    "# Create a histogram for birth weight (bwt) data\n",
    "plt.hist(a, bins=10, alpha=0.5, label='smokers', color='blue', rwidth=0.8)\n",
    "# plt.hist(b, bins=30, alpha=0.5, label='non-smokers')\n",
    "plt.legend(loc='upper right')\n",
    "plt.title('Histogram of mother have smoke')\n",
    "plt.show()"
   ]
  },
  {
   "cell_type": "markdown",
   "metadata": {},
   "source": [
    "##### Boxplot"
   ]
  },
  {
   "cell_type": "code",
   "execution_count": 38,
   "metadata": {},
   "outputs": [],
   "source": [
    "import matplotlib.pyplot as plt\n",
    "import pandas as pd\n",
    "\n",
    "# Create Figure\n",
    "plt.figure(figsize=(10, 6))\n",
    "\n",
    "# Create a boxplot for birth weight (bwt) data\n",
    "plt.boxplot(a, vert=True, patch_artist=True, showmeans=True, meanline=True, boxprops=dict(facecolor='green'))\n",
    "\n",
    "# Add title and labels\n",
    "plt.title('Boxplot of mother have smoke')\n",
    "plt.ylabel('Birth Weight (g)')\n",
    "\n",
    "# Show the plot\n",
    "plt.show()\n"
   ]
  },
  {
   "cell_type": "markdown",
   "metadata": {},
   "source": [
    "#### Dữ liệu cân nặng của trẻ trong trường hợp bà mẹ không hút thuốc"
   ]
  },
  {
   "cell_type": "markdown",
   "metadata": {},
   "source": [
    "##### Histogram"
   ]
  },
  {
   "cell_type": "code",
   "execution_count": 39,
   "metadata": {},
   "outputs": [],
   "source": [
    "import matplotlib.pyplot as plt\n",
    "\n",
    "# Create a histogram for birth weight (bwt) data\n",
    "plt.hist(b, bins=10, alpha=0.5, label='smokers', color='blue', rwidth=0.8)\n",
    "plt.legend(loc='upper right')\n",
    "plt.title('Histogram of mother non-smoke')\n",
    "plt.show()"
   ]
  },
  {
   "cell_type": "markdown",
   "metadata": {},
   "source": [
    "##### Boxplot"
   ]
  },
  {
   "cell_type": "code",
   "execution_count": 42,
   "metadata": {},
   "outputs": [],
   "source": [
    "import matplotlib.pyplot as plt\n",
    "\n",
    "# Create Figure\n",
    "plt.figure(figsize=(10, 6))\n",
    "\n",
    "# Create a boxplot for birth weight (bwt) data\n",
    "plt.boxplot(b, vert=True, patch_artist=True, showmeans=True, meanline=True, boxprops=dict(facecolor='green'))\n",
    "\n",
    "# Add title and labels\n",
    "plt.title('Boxplot of mother non-smoke')\n",
    "plt.ylabel('Birth Weight (g)')\n",
    "\n",
    "# Show the plot\n",
    "plt.show()"
   ]
  },
  {
   "cell_type": "markdown",
   "metadata": {},
   "source": [
    "#### So sánh hai tập dữ liệu dựa vào các biểu diễn hình học"
   ]
  },
  {
   "cell_type": "markdown",
   "metadata": {},
   "source": [
    "##### Histogram"
   ]
  },
  {
   "cell_type": "code",
   "execution_count": 44,
   "metadata": {},
   "outputs": [],
   "source": [
    "import matplotlib.pyplot as plt\n",
    "\n",
    "# Create figure and two axes for subplots\n",
    "fig, (ax1, ax2) = plt.subplots(1, 2, figsize=(10, 5))\n",
    "\n",
    "# Create a histogram for birth weight (bwt) data for smokers\n",
    "ax1.hist(a, bins=10, alpha=0.5, label='smokers', color='blue', rwidth=0.8)\n",
    "ax1.legend(loc='upper right')\n",
    "ax1.set_title('Histogram of mothers who smoke')\n",
    "ax1.set_xlabel('Birth weight (bwt)')\n",
    "ax1.set_ylabel('Frequency')\n",
    "\n",
    "# Create a histogram for birth weight (bwt) data for non-smokers\n",
    "ax2.hist(b, bins=10, alpha=0.5, label='non-smokers', color='red', rwidth=0.8)\n",
    "ax2.legend(loc='upper right')\n",
    "ax2.set_title('Histogram of mothers who do not smoke')\n",
    "ax2.set_xlabel('Birth weight (bwt)')\n",
    "ax2.set_ylabel('Frequency')\n",
    "\n",
    "# Adjust layout and show the plot\n",
    "plt.tight_layout()\n",
    "plt.show()\n"
   ]
  },
  {
   "cell_type": "markdown",
   "metadata": {},
   "source": [
    "**Cân nặng của trẻ trẻ trong trường hợp bà mẹ không hút thuốc cáo hơn so với trường hợp bà mẹ có hút thuốc**\n",
    "+ Tính biến thiên của 2 tập dữ liệu: tương tự nhau\n",
    "+ Tính đối xứng của 2 tập dữ liệu: tương tự nhau\n",
    "+ Giá trị ngoại lệ: cả 2 đều không có giá trị ngoại lệ đáng chú ý.\n"
   ]
  },
  {
   "cell_type": "markdown",
   "metadata": {},
   "source": [
    "##### Boxplot"
   ]
  },
  {
   "cell_type": "code",
   "execution_count": 48,
   "metadata": {},
   "outputs": [],
   "source": [
    "import matplotlib.pyplot as plt\n",
    "\n",
    "# Create figure and two axes for subplots\n",
    "fig, (ax1, ax2) = plt.subplots(1, 2, figsize=(10, 5))\n",
    "\n",
    "# Create a boxplot for birth weight (bwt) data for smokers\n",
    "ax1.boxplot(a, vert=True, patch_artist=True, showmeans=True, meanline=True, boxprops=dict(facecolor='purple'))\n",
    "ax1.set_title('Boxplot of mothers who smoke')\n",
    "ax1.set_ylabel('Birth weight (bwt)')\n",
    "ax1.set_xticklabels(['smokers'])\n",
    "\n",
    "# Create a boxplot for birth weight (bwt) data for non-smokers\n",
    "ax2.boxplot(b, vert=True, patch_artist=True, showmeans=True, meanline=True, boxprops=dict(facecolor='aqua'))\n",
    "ax2.set_title('Boxplot of mothers who do not smoke')\n",
    "ax2.set_ylabel('Birth weight (bwt)')\n",
    "ax2.set_xticklabels(['non-smokers'])\n",
    "\n",
    "# Adjust layout and show the plot\n",
    "plt.tight_layout()\n",
    "plt.show()"
   ]
  },
  {
   "cell_type": "markdown",
   "metadata": {},
   "source": [
    "**Khác biệt về vị trí:** giá trị trung vị của trường hợp bà mẹ không hút thuốc lớn hơn trường hợp bà mẹ có hút thuốc (123 và 115).\n",
    "\n",
    "**Giá trị ngoại lệ:** cả 2 trường hợp đều có giá trị ngoại lệ trên và dưới. Trường hợp không hút thuốc có nhiều giá trị ngoại lệ hơn.\n"
   ]
  },
  {
   "cell_type": "markdown",
   "metadata": {},
   "source": [
    "## Bài **2**"
   ]
  },
  {
   "cell_type": "markdown",
   "metadata": {},
   "source": [
    "### Đọc dữ liệu từ file lungcancer.csv"
   ]
  },
  {
   "cell_type": "code",
   "execution_count": 4,
   "metadata": {},
   "outputs": [],
   "source": [
    "import pandas as pd\n",
    "\n",
    "# Load the data\n",
    "data = pd.read_csv('lungcancer.csv', sep=\",\", header=0)\n",
    "\n",
    "# add to dataframe\n",
    "df_lungcancer = pd.DataFrame(data)\n",
    "\n",
    "# Display the first few rows of the DataFrame\n",
    "df_lungcancer.head()\n"
   ]
  },
  {
   "cell_type": "markdown",
   "metadata": {},
   "source": [
    "### Chia nhóm (Nhóm mắc ung thư và nhóm không mắc ung thư)"
   ]
  },
  {
   "cell_type": "code",
   "execution_count": null,
   "metadata": {},
   "outputs": [],
   "source": [
    "d0 = df_lungcancer[df_lungcancer['Result'] == 0] # Nhóm không mắc ung thư\n",
    "d1 = df_lungcancer[df_lungcancer['Result'] == 1] # Nhóm mắc ung thư"
   ]
  },
  {
   "cell_type": "markdown",
   "metadata": {},
   "source": [
    "### 1. Phân tích dữ liệu dựa trên độ tuổi"
   ]
  },
  {
   "cell_type": "code",
   "execution_count": 12,
   "metadata": {},
   "outputs": [],
   "source": [
    "import pandas as pd\n",
    "from scipy.stats import skew, kurtosis\n",
    "\n",
    "# Sử dụng hàm .describe() để tính toán các chỉ số thống kê cơ bản\n",
    "describe_d0 = d0['Age'].describe()  # Thống kê cho nhóm không mắc ung thư\n",
    "describe_d1 = d1['Age'].describe()  # Thống kê cho nhóm mắc ung thư\n",
    "\n",
    "# Tính các giá trị đặc biệt: IQR, Skewness, Kurtosis\n",
    "iqr_d0 = describe_d0['75%'] - describe_d0['25%']\n",
    "iqr_d1 = describe_d1['75%'] - describe_d1['25%']\n",
    "\n",
    "skewness_d0 = skew(d0['Age'])\n",
    "kurtosis_d0 = kurtosis(d0['Age'], fisher=False)\n",
    "\n",
    "skewness_d1 = skew(d1['Age'])\n",
    "kurtosis_d1 = kurtosis(d1['Age'], fisher=False)\n",
    "\n",
    "# Tạo bảng với các chỉ số tính toán\n",
    "x = [\n",
    "    describe_d1['count'],        # count\n",
    "    describe_d1['min'],          # min\n",
    "    describe_d1['max'],          # max\n",
    "    describe_d1['mean'],         # mean\n",
    "    describe_d1['std'],          # std (độ lệch chuẩn)\n",
    "    describe_d1['std'] ** 2,     # variance (phương sai)\n",
    "    describe_d1['50%'],          # median\n",
    "    describe_d1['min'],          # Quantile 0%\n",
    "    describe_d1['25%'],          # Quantile 25%\n",
    "    describe_d1['50%'],          # Quantile 50%\n",
    "    describe_d1['75%'],          # Quantile 75%\n",
    "    iqr_d1,                      # IQR (Interquartile Range)\n",
    "    skewness_d1,                 # Skewness\n",
    "    kurtosis_d1                  # Kurtosis\n",
    "]\n",
    "\n",
    "y = [\n",
    "    describe_d0['count'],        # count\n",
    "    describe_d0['min'],          # min\n",
    "    describe_d0['max'],          # max\n",
    "    describe_d0['mean'],         # mean\n",
    "    describe_d0['std'],          # std (độ lệch chuẩn)\n",
    "    describe_d0['std'] ** 2,     # variance (phương sai)\n",
    "    describe_d0['50%'],          # median\n",
    "    describe_d0['min'],          # Quantile 0%\n",
    "    describe_d0['25%'],          # Quantile 25%\n",
    "    describe_d0['50%'],          # Quantile 50%\n",
    "    describe_d0['75%'],          # Quantile 75%\n",
    "    iqr_d0,                      # IQR (Interquartile Range)\n",
    "    skewness_d0,                 # Skewness\n",
    "    kurtosis_d0                  # Kurtosis\n",
    "]\n",
    "\n",
    "# Đặt tên cho các chỉ số\n",
    "index = ['count', 'min', 'max', 'mean', 'std', 'variance', 'median', \n",
    "         'Quantile 0%', 'Quantile 25%', 'Quantile 50%', \n",
    "         'Quantile 75%', 'IQR', 'Skewness', 'Kurtosis']\n",
    "\n",
    "# Tạo DataFrame với các chỉ số\n",
    "df = pd.DataFrame({'Mắc ung thư phổi': x, 'Không mắc ung thư phổi': y}, index=index)\n",
    "\n",
    "# In kết quả\n",
    "df\n"
   ]
  },
  {
   "cell_type": "markdown",
   "metadata": {},
   "source": [
    "#### 1.1. Xét tập dữ liệu ứng với trường hợp mắc ung thư phổi"
   ]
  },
  {
   "cell_type": "markdown",
   "metadata": {},
   "source": [
    "\n",
    "- **Vị trí tập trung của dữ liệu:** \n",
    "    + **Khoảng giá trị trung bình**: Từ 53 đến 55\n",
    "\n",
    "- **Tính biến động của dữ liệu:**\n",
    "    + **Phương sai (variance)**: 230.402116\n",
    "    + **Độ lệch chuẩn (standard deviation)**: 15.179002\n",
    "    + **Khoảng giá trị**: min = 26, max = 77 → **Range** = 51\n",
    "    + **Khoảng cách giữa hai phần tư vị (IQR)**: $Q_3 - Q_1 = 62.25 - 42.75 = 19.5$\n",
    "\n",
    "- **Nhận xét:**\n",
    "    + **Độ lệch chuẩn cao**: Điều này cho thấy các giá trị dữ liệu phân tán xa so với trung bình, phản ánh sự biến động tương đối mạnh trong tập dữ liệu.\n",
    "    + **Range (51)**: Phạm vi dữ liệu khá rộng, từ giá trị nhỏ nhất đến giá trị lớn nhất cách nhau 51 đơn vị.\n",
    "    + **IQR (19.5)**: Khoảng cách giữa phần tư thứ nhất (Q1) và phần tư thứ ba (Q3) nhỏ hơn so với Range, điều này chỉ ra rằng phần lớn dữ liệu tập trung trong một khoảng hẹp hơn, dù vẫn có sự biến động.\n",
    "\n",
    "- **Hình dạng phân bố của dữ liệu:**\n",
    "    + **Độ lệch (Skewness)**: -0.227926 (Phân bố dữ liệu hơi lệch về phía trái, nhưng gần như đối xứng).\n",
    "    + **Độ bè nhọn (Kurtosis)**: 2.110163 (Phân bố không quá nhọn, hai bên giảm dần một cách từ từ và vừa phải).\n",
    "\n",
    "- **Kết luận:**\n",
    "    + **Dữ liệu hơi lệch về phía trái**, nhưng gần đối xứng, cho thấy sự phân bố không hoàn toàn cân bằng.\n",
    "    + **Đỉnh phân bố không quá nhọn**, hai bên của đỉnh phân bố giảm dần với tốc độ tương đối đều, phản ánh sự ổn định trong sự phân tán của dữ liệu.\n"
   ]
  },
  {
   "cell_type": "markdown",
   "metadata": {},
   "source": [
    "#### 1.2. Xét tập dữ liệu ứng với trường hợp không mắc ung thư phổi"
   ]
  },
  {
   "cell_type": "markdown",
   "metadata": {},
   "source": [
    "- **Tính biến động của dữ liệu:**\n",
    "    + **Phương sai (variance):** 94.982796\n",
    "    + **Độ lệch chuẩn (standard deviation):** 9.745912\n",
    "    + **Khoảng giá trị (range):** min = 18, max = 58 → range = 40\n",
    "    + **Khoảng cách giữa hai phần tư vị (IQR):** $Q_3 - Q_1 = 38 - 25.5 = 12.5$\n",
    "\n",
    "- **Nhận xét:** \n",
    "    + **Phân tán thấp:** Dữ liệu không mắc ung thư phổi có xu hướng phân tán thấp hơn, với các giá trị phần lớn nằm gần nhau.\n",
    "\n",
    "- **Hình dạng phân bố của dữ liệu:**\n",
    "    + **Độ lệch (Skewness):** 0.565795 (Phân bố hơi lệch về phía phải).\n",
    "    + **Độ bè nhọn (Kurtosis):** 2.905405 (Phân bố gần giống phân phối chuẩn, với đỉnh rõ ràng và hai bên giảm dần đều đặn).\n",
    "\n",
    "- **Kết luận:** Dữ liệu trong trường hợp không mắc ung thư phổi hơi lệch về phía phải, với đỉnh phân bố gần giống phân phối chuẩn và hai bên giảm đều đặn.\n",
    "\n"
   ]
  },
  {
   "cell_type": "markdown",
   "metadata": {},
   "source": [
    "#### 1.3. So sánh các giá trị thống kê mô tả của hai tập dữ liệu"
   ]
  },
  {
   "cell_type": "markdown",
   "metadata": {},
   "source": [
    "**Sự khác biệt về tính biến động:**\n",
    "\n",
    "| Thông số       | TH1: Ung thư phổi | TH2: Không ung thư phổi | Chênh lệch (TH2 - TH1) |\n",
    "|----------------|-------------------|------------------------|------------------------|\n",
    "| **Std**        | 15.179002         | 9.745912               | -5.43309               |\n",
    "| **Var**        | 230.402116        | 94.982796              | -135.419356            |\n",
    "| **Range**      | 51                | 40                     | -11                    |\n",
    "| **IQR**        | 19.5              | 12.5                   | -7                     |\n",
    "\n",
    "**Nhận xét:** **Biến động thấp hơn ở nhóm không mắc ung thư phổi**: Dữ liệu không mắc ung thư phổi có độ lệch chuẩn và phương sai nhỏ hơn đáng kể so với nhóm mắc ung thư phổi. Điều này cho thấy tính ổn định cao hơn và phạm vi hẹp hơn trong nhóm không mắc ung thư.\n",
    "\n",
    "**Sự khác biệt về hình dạng phân bố:**\n",
    "\n",
    "| Thông số       | TH1: Ung thư phổi | TH2: Không ung thư phổi | Chênh lệch (TH2 - TH1) |\n",
    "|----------------|-------------------|------------------------|------------------------|\n",
    "| **Skewness**   | -0.227926         | 0.565795               | 0.793721               |\n",
    "| **Kurtosis**   | 2.110163          | 2.905405               | 0.795242               |\n",
    "\n",
    "**Nhận xét:**\n",
    "+ **Trường hợp ung thư phổi**: Dữ liệu có độ lệch nhẹ về phía trái, cho thấy có một số người có tuổi cao hơn mức trung bình. Đỉnh phân bố không quá nhọn, phản ánh sự phân bố tương đối đều.\n",
    "+ **Trường hợp không mắc ung thư phổi**: Dữ liệu có xu hướng lệch về phía phải, với đỉnh nhọn hơn, cho thấy tập trung nhiều giá trị ở gần trung bình và ít trường hợp có tuổi quá cao hoặc quá thấp.\n"
   ]
  },
  {
   "cell_type": "markdown",
   "metadata": {},
   "source": [
    "#### 1.4. So sánh hai tập dữ liệu dựa vào các biểu diễn hình học"
   ]
  },
  {
   "cell_type": "markdown",
   "metadata": {},
   "source": [
    "##### Histogram"
   ]
  },
  {
   "cell_type": "code",
   "execution_count": 14,
   "metadata": {},
   "outputs": [],
   "source": [
    "import matplotlib.pyplot as plt\n",
    "\n",
    "fig, axs = plt.subplots(1, 2, figsize=(12, 6))\n",
    "\n",
    "# Định nghĩa chung cho biểu đồ\n",
    "def plot_histogram(data, title, ax, color):\n",
    "    ax.hist(data, bins=15, alpha=0.7, color=color, rwidth=0.8)\n",
    "    ax.set_title(title)\n",
    "    ax.set_xlabel('Tuổi')\n",
    "    ax.set_ylabel('Tần suất')\n",
    "\n",
    "# Vẽ histogram cho hai nhóm\n",
    "plot_histogram(d1['Age'], 'Độ tuổi của người mắc ung thư phổi', axs[0], 'green')\n",
    "plot_histogram(d0['Age'], 'Độ tuổi của người không mắc ung thư phổi', axs[1], 'orange')\n",
    "\n",
    "# Điều chỉnh khoảng cách và hiển thị biểu đồ\n",
    "plt.tight_layout()\n",
    "plt.show()\n"
   ]
  },
  {
   "cell_type": "markdown",
   "metadata": {},
   "source": [
    "##### Dựa vào histogram, ta có nhận xét sau:\n",
    "\n",
    "**Độ tuổi:** Người không mắc ung thư phổi có độ tuổi thấp hơn so với người bị mắc ung thư phổi. Điều này cho thấy người có độ tuổi cao, đặc biệt là lứa tuổi trung niên, dễ có nguy cơ mắc bệnh ung thư phổi hơn so với người có lứa tuổi trẻ hơn.\n",
    "\n",
    "**Tính biến thiên của 2 tập dữ liệu:** Dữ liệu của nhóm mắc ung thư phổi có sự phân tán lớn hơn so với nhóm không mắc. Điều này thể hiện qua các chỉ số như độ lệch chuẩn, phương sai và khoảng giá trị, với các giá trị cao hơn ở nhóm ung thư phổi. Điều này cho thấy độ tuổi của người mắc ung thư phổi có sự đa dạng lớn hơn, với nhiều giá trị cách xa trung bình hơn, trong khi nhóm không mắc ung thư phổi có độ tuổi tập trung nhiều hơn ở các giá trị gần nhau.\n",
    "\n",
    "**Tính đối xứng của 2 tập dữ liệu:**\n",
    "\n",
    "- Nhóm mắc ung thư phổi có độ lệch nhẹ về phía trái (Skewness âm), tức là có một số ít giá trị nhỏ hơn trung bình.\n",
    "- Nhóm không mắc ung thư phổi lại lệch về phía phải (Skewness dương), với một số giá trị lớn hơn trung bình xuất hiện nhiều hơn. Nhìn chung, có sự lệch nhẹ nhưng không đáng kể.\n",
    "\n",
    "**Giá trị ngoại lệ:** Cả hai tập dữ liệu đều không có giá trị ngoại lệ đáng kể."
   ]
  },
  {
   "cell_type": "markdown",
   "metadata": {},
   "source": [
    "##### Boxplot"
   ]
  },
  {
   "cell_type": "code",
   "execution_count": 16,
   "metadata": {},
   "outputs": [],
   "source": [
    "import matplotlib.pyplot as plt\n",
    "\n",
    "# Tạo biểu đồ boxplot so sánh độ tuổi giữa hai nhóm\n",
    "plt.figure(figsize=(10, 6))\n",
    "\n",
    "plt.boxplot([d0['Age'], d1['Age']],\n",
    "            tick_labels=['Ung thư phổi', 'Không ung thư phổi'],\n",
    "            patch_artist=True,\n",
    "            medianprops={'color': 'red'},\n",
    "            boxprops={'facecolor': 'lightblue', 'edgecolor': 'blue', 'linewidth': 1},\n",
    "            whiskerprops={'linewidth': 1},\n",
    "            capprops={'linewidth': 1},\n",
    "            flierprops={'markerfacecolor': 'blue', 'markeredgecolor': 'blue'},\n",
    "            notch=False)\n",
    "\n",
    "# Thêm tiêu đề và nhãn\n",
    "plt.title('So sánh độ tuổi của người mắc và không mắc ung thư phổi')\n",
    "plt.ylabel('Tuổi')\n",
    "\n",
    "# Hiển thị lưới nhẹ theo trục y\n",
    "plt.grid(axis='y', alpha=0.75)\n",
    "\n",
    "# Hiển thị biểu đồ\n",
    "plt.show()\n"
   ]
  },
  {
   "cell_type": "markdown",
   "metadata": {},
   "source": [
    "##### Dựa vào Boxplot, ta có nhận xét như sau\n",
    "**Khác biệt về vị trí trung vị**\n",
    "- **Độ tuổi trung vị:**\n",
    "  - Người mắc ung thư phổi: **55 tuổi**\n",
    "  - Người không mắc ung thư phổi: **33 tuổi**\n",
    "\n",
    "Như vậy, độ tuổi trung vị của người mắc ung thư phổi cao hơn nhiều so với người không mắc, cho thấy rằng những người lớn tuổi có nguy cơ mắc ung thư phổi cao hơn.\n",
    "\n",
    "**Giá trị ngoại lệ**\n",
    "- **Người mắc ung thư phổi:** Không có **giá trị ngoại lệ** đáng kể.\n",
    "- **Người không mắc ung thư phổi:** Có **một giá trị ngoại lệ** là **58 tuổi**.\n",
    "\n",
    "Điều này cho thấy rằng trong nhóm không mắc ung thư phổi, có một trường hợp ngoại lệ với độ tuổi cao hơn hẳn so với phần lớn các giá trị khác trong tập dữ liệu."
   ]
  },
  {
   "cell_type": "markdown",
   "metadata": {},
   "source": [
    "### 2. Phân tích dữ liệu dựa trên số lượng điếu thuốc lá đã hút"
   ]
  },
  {
   "cell_type": "code",
   "execution_count": 17,
   "metadata": {},
   "outputs": [],
   "source": [
    "import pandas as pd\n",
    "from scipy.stats import skew, kurtosis\n",
    "\n",
    "# Sử dụng hàm .describe() để tính toán các chỉ số thống kê cơ bản\n",
    "describe_d0 = d0['Smokes'].describe()  # Thống kê cho nhóm không mắc ung thư\n",
    "describe_d1 = d1['Smokes'].describe()  # Thống kê cho nhóm mắc ung thư\n",
    "\n",
    "# Tính các giá trị đặc biệt: IQR, Skewness, Kurtosis\n",
    "iqr_d0 = describe_d0['75%'] - describe_d0['25%']\n",
    "iqr_d1 = describe_d1['75%'] - describe_d1['25%']\n",
    "\n",
    "skewness_d0 = skew(d0['Smokes'])\n",
    "kurtosis_d0 = kurtosis(d0['Smokes'], fisher=False)\n",
    "\n",
    "skewness_d1 = skew(d1['Smokes'])\n",
    "kurtosis_d1 = kurtosis(d1['Smokes'], fisher=False)\n",
    "\n",
    "# Tạo bảng với các chỉ số tính toán\n",
    "x = [\n",
    "    describe_d1['count'],        # count\n",
    "    describe_d1['min'],          # min\n",
    "    describe_d1['max'],          # max\n",
    "    describe_d1['mean'],         # mean\n",
    "    describe_d1['std'],          # std (độ lệch chuẩn)\n",
    "    describe_d1['std'] ** 2,     # variance (phương sai)\n",
    "    describe_d1['50%'],          # median\n",
    "    describe_d1['min'],          # Quantile 0%\n",
    "    describe_d1['25%'],          # Quantile 25%\n",
    "    describe_d1['50%'],          # Quantile 50%\n",
    "    describe_d1['75%'],          # Quantile 75%\n",
    "    iqr_d1,                      # IQR (Interquartile Range)\n",
    "    skewness_d1,                 # Skewness\n",
    "    kurtosis_d1                  # Kurtosis\n",
    "]\n",
    "\n",
    "y = [\n",
    "    describe_d0['count'],        # count\n",
    "    describe_d0['min'],          # min\n",
    "    describe_d0['max'],          # max\n",
    "    describe_d0['mean'],         # mean\n",
    "    describe_d0['std'],          # std (độ lệch chuẩn)\n",
    "    describe_d0['std'] ** 2,     # variance (phương sai)\n",
    "    describe_d0['50%'],          # median\n",
    "    describe_d0['min'],          # Quantile 0%\n",
    "    describe_d0['25%'],          # Quantile 25%\n",
    "    describe_d0['50%'],          # Quantile 50%\n",
    "    describe_d0['75%'],          # Quantile 75%\n",
    "    iqr_d0,                      # IQR (Interquartile Range)\n",
    "    skewness_d0,                 # Skewness\n",
    "    kurtosis_d0                  # Kurtosis\n",
    "]\n",
    "\n",
    "# Đặt tên cho các chỉ số\n",
    "index = ['count', 'min', 'max', 'mean', 'std', 'variance', 'median', \n",
    "         'Quantile 0%', 'Quantile 25%', 'Quantile 50%', \n",
    "         'Quantile 75%', 'IQR', 'Skewness', 'Kurtosis']\n",
    "\n",
    "# Tạo DataFrame với các chỉ số\n",
    "df = pd.DataFrame({'Mắc ung thư phổi': x, 'Không mắc ung thư phổi': y}, index=index)\n",
    "\n",
    "# In kết quả\n",
    "df\n"
   ]
  },
  {
   "cell_type": "markdown",
   "metadata": {},
   "source": [
    "#### 2.1. Xét tập dữ liệu số lượng điếu thuốc hút trong trường hợp mắc ung thư phổi"
   ]
  },
  {
   "cell_type": "markdown",
   "metadata": {},
   "source": [
    "**Vị trí tập trung của dữ liệu:**\n",
    "- **Khoảng giá trị:** Từ 18 đến 20 điếu thuốc.\n",
    "\n",
    "**Tính biến động của dữ liệu:**\n",
    "- **Phương sai (variance):** 60.003968  \n",
    "- **Độ lệch chuẩn (standard deviation):** 7.74622  \n",
    "- **Khoảng giá trị (range):** min = 3, max = 34 → range = 31\n",
    "- **Khoảng cách giữa 2 phần tư vị (IQR):** Q_3 - Q_1 = 20 - 15 = 5\n",
    "\n",
    "**Nhận xét:**\n",
    "Dữ liệu có khoảng giá trị tương đối lớn (từ 3 đến 34 điếu thuốc). Tuy nhiên, phần lớn dữ liệu tập trung trong khoảng hẹp (IQR = 5). Độ lệch chuẩn ở mức vừa phải (7.74622), cho thấy các giá trị phân tán không quá lớn xung quanh trung bình. Phương sai trung bình phản ánh mức độ biến động vừa phải. Do đó, dữ liệu có xu hướng tập trung ở mức độ nhất định, với một số giá trị nằm ngoài biên nhưng không quá phân tán.\n",
    "\n",
    "**Hình dạng phân bố của dữ liệu:**\n",
    "- **Độ lệch (Skewness):** -0.387962  \n",
    "- **Độ bè nhọn (Kurtosis):** 3.072403  \n",
    "\n",
    "**Nhận xét:**\n",
    "Dữ liệu có độ lệch về phía trái (Skewness = -0.387962), tức là có nhiều giá trị thấp hơn trung bình. Độ bè nhọn (Kurtosis = 3.072403) cho thấy đỉnh dữ liệu tương đối nhọn hơn phân bố chuẩn, với các giá trị giảm nhanh hai bên, nhưng vẫn có một số giá trị thấp hơn trung bình.\n"
   ]
  },
  {
   "cell_type": "markdown",
   "metadata": {},
   "source": [
    "#### 2.2. Xét tập dữ liệu số lượng điếu thuốc hút trong trường hợp không mắc ung thư phổi"
   ]
  },
  {
   "cell_type": "markdown",
   "metadata": {},
   "source": [
    "**Tính biến động của dữ liệu:**\n",
    "- **Phương sai (variance):** 52.064516  \n",
    "- **Độ lệch chuẩn (standard deviation):** 7.215575  \n",
    "- **Khoảng giá trị (range):** min = 0, max = 25 → range = 25\n",
    "- **Khoảng cách giữa 2 phần tư vị (IQR):** Q3 - Q1 = 19 - 9 = 10\n",
    "\n",
    "**Nhận xét:**\n",
    "Dữ liệu tập trung chủ yếu trong khoảng từ 9 đến 19 điếu thuốc. Phần lớn giá trị nằm trong khoảng giữa với IQR = 10. Độ lệch chuẩn và phương sai ở mức vừa phải, cho thấy mức độ biến động không quá lớn. Tuy nhiên, với range = 25, vẫn có sự chênh lệch giữa giá trị nhỏ nhất và lớn nhất.\n",
    "\n",
    "**Hình dạng phân bố của dữ liệu:**\n",
    "- **Độ lệch (Skewness):** -0.142489  \n",
    "- **Độ bè nhọn (Kurtosis):** 2.201710  \n",
    "\n",
    "**Nhận xét:**\n",
    "Dữ liệu hơi lệch về phía trái và có đỉnh tương đối nhọn, cho thấy phần lớn các giá trị tập trung ở khoảng trung bình, với một số giá trị thấp hơn. Dữ liệu không hoàn toàn đối xứng nhưng vẫn gần với phân bố chuẩn.\n"
   ]
  },
  {
   "cell_type": "markdown",
   "metadata": {},
   "source": [
    "#### 2.3. So sánh các giá trị thống kê mô tả của hai tập dữ liệu"
   ]
  },
  {
   "cell_type": "markdown",
   "metadata": {},
   "source": [
    "\n",
    "**Nhận xét:** Sự khác biệt giữa hai tập dữ liệu không quá lớn, nhưng có một số điểm đáng chú ý.\n",
    "\n",
    "**Sự khác biệt về tính biến động của dữ liệu:**\n",
    "\n",
    "| Thông số | TH1: Ung thư phổi | TH2: Không ung thư phổi | Chênh lệch (TH2 - TH1) |\n",
    "|----------|-------------------|------------------------|------------------------|\n",
    "| **Std**  | 7.74622           | 7.215575               | -0.530645              |\n",
    "| **Var**  | 60.003968         | 52.064516              | -7.939452              |\n",
    "| **Range**| 31                | 25                     | -6                     |\n",
    "| **IQR**  | 5                 | 10                     | 5                      |\n",
    "\n",
    "**Nhận xét:**\n",
    "Dữ liệu trong trường hợp không mắc ung thư phổi có phạm vi hẹp hơn (range = 25) và biến động thấp hơn so với nhóm ung thư phổi. Tuy nhiên, IQR trong trường hợp không mắc ung thư lớn hơn, cho thấy dữ liệu tập trung rộng hơn trong khoảng giữa.\n",
    "\n",
    "**Sự khác biệt về hình dạng phân bố của dữ liệu:**\n",
    "\n",
    "| Thông số | TH1: Ung thư phổi | TH2: Không ung thư phổi | Chênh lệch (TH2 - TH1) |\n",
    "|----------|-------------------|------------------------|------------------------|\n",
    "| **Skewness** | -0.387962       | -0.142489              | 0.245203               |\n",
    "| **Kurtosis** | 3.072403        | 2.201710               | -0.870693              |\n",
    "\n",
    "**Nhận xét:**\n",
    "Nhóm mắc ung thư phổi có độ lệch về trái mạnh hơn và đỉnh dữ liệu cao hơn so với nhóm không mắc ung thư. Điều này phản ánh tính chất phân tán lớn hơn của dữ liệu trong nhóm mắc ung thư phổi, trong khi nhóm không mắc ung thư phổi có sự tập trung rõ ràng hơn gần trung bình."
   ]
  },
  {
   "cell_type": "markdown",
   "metadata": {},
   "source": [
    "#### 2.4. So sánh hai tập dữ liệu dựa vào các biểu diễn hình học"
   ]
  },
  {
   "cell_type": "markdown",
   "metadata": {},
   "source": [
    "##### Histogram"
   ]
  },
  {
   "cell_type": "code",
   "execution_count": 19,
   "metadata": {},
   "outputs": [],
   "source": [
    "# Biểu diễn hình học bằng đồ thị histogram\n",
    "import matplotlib.pyplot as plt\n",
    "\n",
    "# Tạo đối tượng figure và axes với 2 biểu đồ nằm ngang cạnh nhau\n",
    "fig, axs = plt.subplots(1, 2, figsize=(12, 6))\n",
    "\n",
    "# Histogram cho nhóm mắc ung thư phổi\n",
    "axs[0].hist(d0['Smokes'], bins=10, alpha=0.7, color='blue', rwidth=0.8)\n",
    "axs[0].set_title('Số lượng điếu thuốc lá hút của người mắc ung thư phổi', fontsize=14)\n",
    "axs[0].set_xlabel('Số lượng điếu thuốc lá hút', fontsize=12)\n",
    "axs[0].set_ylabel('Tần suất', fontsize=12)\n",
    "\n",
    "# Histogram cho nhóm không mắc ung thư phổi\n",
    "axs[1].hist(d1['Smokes'], bins=10, alpha=0.7, color='orange', rwidth=0.8)\n",
    "axs[1].set_title('Số lượng điếu thuốc lá hút của người không mắc ung thư phổi', fontsize=14)\n",
    "axs[1].set_xlabel('Số lượng điếu thuốc lá hút', fontsize=12)\n",
    "axs[1].set_ylabel('Tần suất', fontsize=12)\n",
    "\n",
    "# Điều chỉnh layout để tránh chồng lấn các thành phần\n",
    "plt.tight_layout()\n",
    "\n",
    "# Hiển thị biểu đồ\n",
    "plt.show()\n"
   ]
  },
  {
   "cell_type": "markdown",
   "metadata": {},
   "source": [
    "##### Dựa vào Histogram, ta có nhận xét như sau\n",
    "\n",
    "**Tính biến thiên của hai tập dữ liệu:** Cả hai tập dữ liệu đều có mức độ biến thiên tương đối tương đồng. Cụ thể, phương sai và độ lệch chuẩn của nhóm **ung thư phổi** lần lượt là \\( \\text{var} = 60.003968 \\) và \\( \\text{std} = 7.746223 \\), trong khi của nhóm **không ung thư phổi** là \\( \\text{var} = 52.064516 \\) và \\( \\text{std} = 7.215575 \\). Điều này cho thấy mức độ phân tán của cả hai tập dữ liệu là tương đương, với sự khác biệt không đáng kể.\n",
    "\n",
    "**Tính đối xứng của hai tập dữ liệu:** Tính đối xứng của hai tập dữ liệu cũng khá tương đồng. Độ lệch (Skewness) của tập **ung thư phổi** là \\( -0.387962 \\), trong khi của tập **không ung thư phổi** là \\( -0.142489 \\). Cả hai đều cho thấy có độ lệch nhẹ về phía trái. Về độ nhọn của đỉnh (Kurtosis), nhóm **ung thư phổi** có giá trị là \\( 3.072403 \\), trong khi nhóm **không ung thư phổi** có giá trị là \\( 2.201710 \\). Điều này chỉ ra rằng phần lớn giá trị trong cả hai nhóm đều tập trung gần trung bình.\n",
    "\n",
    "**Giá trị ngoại lệ:** Cả hai tập dữ liệu đều không có giá trị ngoại lệ đáng chú ý. Tất cả các giá trị nằm trong phạm vi hợp lý, không có sự xuất hiện của các giá trị cực kỳ bất thường, cho thấy tính ổn định và đồng nhất của dữ liệu."
   ]
  },
  {
   "cell_type": "markdown",
   "metadata": {},
   "source": [
    "##### Boxplot"
   ]
  },
  {
   "cell_type": "code",
   "execution_count": 20,
   "metadata": {},
   "outputs": [],
   "source": [
    "import matplotlib.pyplot as plt\n",
    "\n",
    "# Tạo dữ liệu cho boxplot\n",
    "data = [d0['Smokes'], d1['Smokes']]\n",
    "labels = ['Ung thư phổi', 'Không ung thư phổi']\n",
    "\n",
    "# Vẽ boxplot\n",
    "plt.figure(figsize=(10, 6))\n",
    "plt.boxplot(data, patch_artist=True, \n",
    "            boxprops=dict(facecolor='lightblue', edgecolor='blue', linewidth=1),  # Màu nền và màu viền\n",
    "            medianprops=dict(color='red', linewidth=2))\n",
    "\n",
    "# Thêm tiêu đề và nhãn\n",
    "plt.title('So sánh số lượng thuốc lá hút của người mắc ung thư phổi và không mắc ung thư phổi')\n",
    "plt.ylabel('Số lượng thuốc lá hút (Điếu)')\n",
    "\n",
    "# Thiết lập nhãn cho trục x\n",
    "plt.xticks(ticks=[1, 2], labels=labels)\n",
    "\n",
    "# Thêm lưới cho biểu đồ\n",
    "plt.grid(axis='y', alpha=0.75)\n",
    "\n",
    "# Hiển thị biểu đồ\n",
    "plt.tight_layout()  # Đảm bảo các thành phần không bị chồng chéo\n",
    "plt.show()\n"
   ]
  },
  {
   "cell_type": "markdown",
   "metadata": {},
   "source": [
    "#### Dựa vào Boxplot, ta có phân phối số lượng thuốc lá hút giữa hai đối tượng\n",
    "\n",
    "**Phân phối số lượng thuốc lá hút**\n",
    "\n",
    "- **Ung thư phổi:**\n",
    "  - **Phân phối:** Số lượng thuốc lá hút dao động từ **3 đến 34** điếu.\n",
    "  - **Tập trung:** Phần lớn các giá trị tập trung quanh khoảng **15-20** điếu.\n",
    "\n",
    "- **Không ung thư phổi:**\n",
    "  - **Phân phối:** Số lượng thuốc lá hút dao động từ **0 đến 25** điếu.\n",
    "  - **Tập trung:** Phần lớn các giá trị tập trung quanh khoảng **9-12** điếu.\n",
    "\n",
    "**Nhận xét về nguy cơ mắc bệnh**\n",
    "  - Giá trị tập trung quanh **9-12** điếu cho thấy rằng những người hút ít điếu thuốc sẽ có **nguy cơ mắc bệnh ung thư phổi thấp hơn**.\n",
    "\n",
    "**Khác biệt về vị trí**\n",
    "  - **Giá trị trung vị:**\n",
    "    - Người mắc bệnh ung thư phổi: **20 điếu**\n",
    "    - Người không mắc bệnh ung thư phổi: **12 điếu**\n",
    "\n",
    "Như vậy, giá trị trung vị của người mắc bệnh ung thư phổi lớn hơn so với người không mắc bệnh, cho thấy rằng người mắc bệnh có xu hướng hút thuốc nhiều hơn.\n",
    "\n",
    "**Giá trị ngoại lệ:** Người mắc bệnh ung thư phổi có nhiều **giá trị ngoại lệ hơn** so với người không mắc bệnh ung thư, điều này có thể phản ánh sự đa dạng trong hành vi hút thuốc và nguy cơ mắc bệnh."
   ]
  },
  {
   "cell_type": "markdown",
   "metadata": {},
   "source": [
    "### 3. Phân tích dữ liệu dựa trên chất lượng môi trường sống"
   ]
  },
  {
   "cell_type": "code",
   "execution_count": 21,
   "metadata": {},
   "outputs": [],
   "source": [
    "import pandas as pd\n",
    "from scipy.stats import skew, kurtosis\n",
    "\n",
    "# Sử dụng hàm .describe() để tính toán các chỉ số thống kê cơ bản\n",
    "describe_d0 = d0['AreaQ'].describe()  # Thống kê cho nhóm không mắc ung thư\n",
    "describe_d1 = d1['AreaQ'].describe()  # Thống kê cho nhóm mắc ung thư\n",
    "\n",
    "# Tính các giá trị đặc biệt: IQR, Skewness, Kurtosis\n",
    "iqr_d0 = describe_d0['75%'] - describe_d0['25%']\n",
    "iqr_d1 = describe_d1['75%'] - describe_d1['25%']\n",
    "\n",
    "skewness_d0 = skew(d0['AreaQ'])\n",
    "kurtosis_d0 = kurtosis(d0['AreaQ'], fisher=False)\n",
    "\n",
    "skewness_d1 = skew(d1['AreaQ'])\n",
    "kurtosis_d1 = kurtosis(d1['AreaQ'], fisher=False)\n",
    "\n",
    "# Tạo bảng với các chỉ số tính toán\n",
    "x = [\n",
    "    describe_d1['count'],        # count\n",
    "    describe_d1['min'],          # min\n",
    "    describe_d1['max'],          # max\n",
    "    describe_d1['mean'],         # mean\n",
    "    describe_d1['std'],          # std (độ lệch chuẩn)\n",
    "    describe_d1['std'] ** 2,     # variance (phương sai)\n",
    "    describe_d1['50%'],          # median\n",
    "    describe_d1['min'],          # Quantile 0%\n",
    "    describe_d1['25%'],          # Quantile 25%\n",
    "    describe_d1['50%'],          # Quantile 50%\n",
    "    describe_d1['75%'],          # Quantile 75%\n",
    "    iqr_d1,                      # IQR (Interquartile Range)\n",
    "    skewness_d1,                 # Skewness\n",
    "    kurtosis_d1                  # Kurtosis\n",
    "]\n",
    "\n",
    "y = [\n",
    "    describe_d0['count'],        # count\n",
    "    describe_d0['min'],          # min\n",
    "    describe_d0['max'],          # max\n",
    "    describe_d0['mean'],         # mean\n",
    "    describe_d0['std'],          # std (độ lệch chuẩn)\n",
    "    describe_d0['std'] ** 2,     # variance (phương sai)\n",
    "    describe_d0['50%'],          # median\n",
    "    describe_d0['min'],          # Quantile 0%\n",
    "    describe_d0['25%'],          # Quantile 25%\n",
    "    describe_d0['50%'],          # Quantile 50%\n",
    "    describe_d0['75%'],          # Quantile 75%\n",
    "    iqr_d0,                      # IQR (Interquartile Range)\n",
    "    skewness_d0,                 # Skewness\n",
    "    kurtosis_d0                  # Kurtosis\n",
    "]\n",
    "\n",
    "# Đặt tên cho các chỉ số\n",
    "index = ['count', 'min', 'max', 'mean', 'std', 'variance', 'median', \n",
    "         'Quantile 0%', 'Quantile 25%', 'Quantile 50%', \n",
    "         'Quantile 75%', 'IQR', 'Skewness', 'Kurtosis']\n",
    "\n",
    "# Tạo DataFrame với các chỉ số\n",
    "df = pd.DataFrame({'Mắc ung thư phổi': x, 'Không mắc ung thư phổi': y}, index=index)\n",
    "\n",
    "# In kết quả\n",
    "df\n"
   ]
  },
  {
   "cell_type": "markdown",
   "metadata": {},
   "source": [
    "#### 3.1. Xét tập dữ liệu chất lượng môi trường sống của người mắc bệnh ung thư phổi\n",
    "\n",
    "**Tính biến động của dữ liệu:**\n",
    "- **Phương sai (variance):** var = 2.804233\n",
    "- **Độ lệch chuẩn (standard deviation):** std = 1.674584\n",
    "- **Khoảng giá trị:** min = 1, max = 7 → range = 7 - 1 = 6\n",
    "- **Khoảng cách giữa 2 phần tư vị:** IQR = Q3 - Q1 = 5 - 2 = 3\n",
    "\n",
    "**Nhận xét:**\n",
    "Dữ liệu có khoảng giá trị không quá lớn, với các giá trị dao động từ 1 đến 7. Phần lớn dữ liệu tập trung trong khoảng từ 2 đến 5 (IQR = 3), cho thấy sự tập trung vừa phải. Độ lệch chuẩn ở mức tương đối nhỏ (1.674584), thể hiện mức độ phân tán quanh giá trị trung bình là thấp. Phương sai cũng nhỏ (2.804233), cho thấy sự biến động không lớn.\n",
    "\n",
    "**Hình dạng phân bố của dữ liệu:**\n",
    "- **Độ lệch:** Skewness = 0.260623\n",
    "- **Độ bè nhọn của đỉnh dữ liệu:** Kurtosis = 2.186429\n",
    "\n",
    "**Nhận xét:**  \n",
    "Dữ liệu có độ lệch dương nhẹ (Skewness = 0.260623), cho thấy có một số giá trị cao hơn trung bình, nhưng sự lệch không quá mạnh. Độ bè nhọn của đỉnh dữ liệu (Kurtosis = 2.186429) cho thấy đỉnh dữ liệu hơi nhọn, và phần lớn dữ liệu nằm gần trung tâm."
   ]
  },
  {
   "cell_type": "markdown",
   "metadata": {},
   "source": [
    "#### 3.2. Xét tập dữ liệu chất lượng môi trường sống của người không mắc bệnh ung thư phổi\n",
    "\n",
    "**Tính biến động của dữ liệu:**\n",
    "- **Phương sai (variance):** var = 2.662366\n",
    "- **Độ lệch chuẩn (standard deviation):** std = 1.631676\n",
    "- **Khoảng giá trị:** min = 4, max = 10 → range = 10 - 4 = 6\n",
    "- **Khoảng cách giữa 2 phần tư vị:** IQR = Q3 - Q1 = 8 - 5.5 = 2.5\n",
    "\n",
    "**Nhận xét:**\n",
    "Dữ liệu có khoảng giá trị tương tự như trường hợp ung thư phổi (range = 6), với phần lớn giá trị tập trung trong khoảng 5.5 đến 8 (IQR = 2.5). Sự phân tán của dữ liệu thấp, với độ lệch chuẩn (1.631676) và phương sai (2.662366) tương đối nhỏ, thể hiện dữ liệu tập trung khá chặt chẽ.\n",
    "\n",
    "**Hình dạng phân bố của dữ liệu:**\n",
    "- **Độ lệch:** Skewness = 0.058245\n",
    "- **Độ bè nhọn của đỉnh dữ liệu:** Kurtosis = 1.962871\n",
    "\n",
    "**Nhận xét:**  \n",
    "Độ lệch (Skewness = 0.058245) gần như bằng 0, cho thấy dữ liệu phân bố khá đối xứng. Độ bè nhọn (Kurtosis = 1.962871) thấp hơn so với trường hợp ung thư phổi, thể hiện đỉnh của phân bố thấp và dữ liệu ít tập trung gần trung tâm hơn."
   ]
  },
  {
   "cell_type": "markdown",
   "metadata": {},
   "source": [
    "#### 3.3. So sánh các giá trị thống kê mô tả của hai tập dữ liệu\n",
    "\n",
    "| Thông số         | TH1: Ung thư phổi | TH2: Không ung thư phổi | Chênh lệch (TH2 - TH1) |\n",
    "|------------------|-------------------|-------------------------|------------------------|\n",
    "| Std              | 1.674584          | 1.631676                | -0.042908              |\n",
    "| Var              | 2.804233          | 2.662366                | -0.141867              |\n",
    "| Range            | 6                 | 6                       | 0                      |\n",
    "| IQR              | 3                 | 2.5                     | -0.5                   |\n",
    "\n",
    "**Nhận xét:**\n",
    "Sự biến động của dữ liệu trong hai trường hợp không khác biệt nhiều. Tuy nhiên, dữ liệu của nhóm không mắc bệnh ung thư phổi có xu hướng tập trung chặt chẽ hơn, với IQR nhỏ hơn so với nhóm mắc bệnh.\n",
    "\n",
    "#### 3.4. Sự khác biệt về hình dạng phân bố của dữ liệu\n",
    "\n",
    "| Thông số  | TH1: Ung thư phổi | TH2: Không ung thư phổi | Chênh lệch (TH2 - TH1) |\n",
    "|-----------|-------------------|-------------------------|------------------------|\n",
    "| Skewness  | 0.260623          | 0.058245                | -0.202378              |\n",
    "| Kurtosis  | 2.186429          | 1.962871                | -0.223558              |\n",
    "\n",
    "**Nhận xét:**  \n",
    "Dữ liệu của nhóm không mắc bệnh ung thư phổi có phân bố đối xứng hơn và đỉnh ít nhọn hơn so với nhóm mắc bệnh ung thư phổi."
   ]
  },
  {
   "cell_type": "markdown",
   "metadata": {},
   "source": [
    "#### 3.5. So sánh hai tập dữ liệu dựa vào các biểu diễn hình học"
   ]
  },
  {
   "cell_type": "markdown",
   "metadata": {},
   "source": [
    "##### Histogram"
   ]
  },
  {
   "cell_type": "code",
   "execution_count": 22,
   "metadata": {},
   "outputs": [],
   "source": [
    "# Biểu diễn hình học bằng histogram\n",
    "import matplotlib.pyplot as plt\n",
    "\n",
    "# Tạo đối tượng figure và axes\n",
    "fig, axs = plt.subplots(1, 2, figsize=(12, 6))\n",
    "\n",
    "# Danh sách các nhóm và màu sắc\n",
    "groups = [\n",
    "    (d1['AreaQ'], 'blue', 'Ung thư phổi', 'Chất lượng môi trường sống của người mắc ung thư phổi'),\n",
    "    (d0['AreaQ'], 'orange', 'Không ung thư phổi', 'Chất lượng môi trường sống của người không mắc ung thư phổi')\n",
    "]\n",
    "\n",
    "# Vẽ histogram cho từng nhóm\n",
    "for ax, (data, color, label, title) in zip(axs, groups):\n",
    "    ax.hist(data, bins=15, alpha=0.7, color=color, label=label)\n",
    "    ax.set_title(title)\n",
    "    ax.set_xlabel('Chỉ số chất lượng môi trường')\n",
    "    ax.set_ylabel('Tần suất')\n",
    "\n",
    "# Hiển thị biểu đồ\n",
    "plt.tight_layout()  # Đảm bảo các biểu đồ không bị chồng lấn\n",
    "plt.show()\n"
   ]
  },
  {
   "cell_type": "markdown",
   "metadata": {},
   "source": [
    "**Dựa vào Histogram, ta có nhận xét:**\n",
    "- **Tính biến thiên của 2 tập dữ liệu:** Cả hai tập dữ liệu có mức độ biến thiên tương đương nhau, mặc dù có sự chênh lệch nhẹ. Cụ thể, phương sai và độ lệch chuẩn của nhóm **ung thư phổi** (var = 2.804233, std = 1.674584) và nhóm **không ung thư phổi** (var = 2.662366, std = 1.631676) đều cho thấy mức độ phân tán của dữ liệu ở cả hai nhóm không quá khác biệt. Tính chất biến thiên giữa hai tập là tương tự nhau với sự phân tán vừa phải.\n",
    "\n",
    "**Tính đối xứng của 2 tập dữ liệu:** Cả hai tập dữ liệu đều có tính đối xứng khá giống nhau. Độ lệch (Skewness) của nhóm **ung thư phổi** là 0.260623 và của nhóm **không ung thư phổi** là 0.058245. Cả hai tập đều có độ lệch dương nhẹ, cho thấy phần lớn giá trị tập trung ở bên trái của phân phối, nhưng mức độ lệch này không đáng kể. Về độ nhọn của đỉnh (Kurtosis), giá trị của nhóm **ung thư phổi** là 2.186429 và của nhóm **không ung thư phổi** là 1.962871, chỉ ra rằng phân phối của cả hai tập đều không quá nhọn, với phần lớn giá trị tập trung quanh trung bình.\n",
    "\n",
    "**Giá trị ngoại lệ:** Cả hai tập dữ liệu đều không có giá trị ngoại lệ đáng chú ý."
   ]
  },
  {
   "cell_type": "markdown",
   "metadata": {},
   "source": [
    "#### Boxplot"
   ]
  },
  {
   "cell_type": "code",
   "execution_count": 23,
   "metadata": {},
   "outputs": [],
   "source": [
    "import matplotlib.pyplot as plt\n",
    "\n",
    "# Tạo boxplot\n",
    "plt.figure(figsize=(10, 6))\n",
    "plt.boxplot([d1['AreaQ'], d0['AreaQ']], \n",
    "            patch_artist=True, \n",
    "            boxprops=dict(facecolor='lightblue', edgecolor='blue', linewidth=1),  # Màu nền và màu viền\n",
    "            medianprops=dict(color='red', linewidth=2))  # Màu sắc và độ dày của đường giữa boxplot\n",
    "\n",
    "# Thêm tiêu đề và nhãn\n",
    "plt.title('So sánh chỉ số chất lượng môi trường sống của người mắc và không mắc ung thư phổi')\n",
    "plt.ylabel('Chỉ số chất lượng môi trường sống')\n",
    "plt.xticks([1, 2], ['Ung thư phổi', 'Không mắc ung thư phổi'])  # Thiết lập nhãn cho trục x\n",
    "\n",
    "# Thêm lưới cho biểu đồ\n",
    "plt.grid(axis='y', alpha=0.75)\n",
    "\n",
    "# Hiển thị biểu đồ\n",
    "plt.tight_layout()  # Tối ưu khoảng cách giữa các phần tử của biểu đồ\n",
    "plt.show()\n"
   ]
  },
  {
   "cell_type": "markdown",
   "metadata": {},
   "source": [
    "**Dựa vào Boxplot, ta có nhận xét:**\n",
    "\n",
    "**Khác biệt về vị trí:** Giá trị trung vị chất lượng môi trường sống của trường hợp không mắc ung thư phổi lớn hơn so với trường hợp của người mắc ung thư phổi (7 và 3). Điều này cho thấy những người không mắc ung thư phổi có chỉ số chất lượng môi trường sống cao hơn những người mắc ung thư phổi có chỉ số chất lượng môi trường sống thấp hơn.\n",
    "\n",
    "**Giá trị ngoại lệ:** Cả hai nhóm dữ liệu đều không có giá trị ngoại lệ đáng chú ý.\n"
   ]
  },
  {
   "cell_type": "markdown",
   "metadata": {},
   "source": [
    "### 4. Phân tích số liệu dựa trên lượng tiêu thụ rượu"
   ]
  },
  {
   "cell_type": "code",
   "execution_count": 24,
   "metadata": {},
   "outputs": [],
   "source": [
    "import pandas as pd\n",
    "from scipy.stats import skew, kurtosis\n",
    "\n",
    "# Sử dụng hàm .describe() để tính toán các chỉ số thống kê cơ bản\n",
    "describe_d0 = d0['Alkhol'].describe()  # Thống kê cho nhóm không mắc ung thư\n",
    "describe_d1 = d1['Alkhol'].describe()  # Thống kê cho nhóm mắc ung thư\n",
    "\n",
    "# Tính các giá trị đặc biệt: IQR, Skewness, Kurtosis\n",
    "iqr_d0 = describe_d0['75%'] - describe_d0['25%']\n",
    "iqr_d1 = describe_d1['75%'] - describe_d1['25%']\n",
    "\n",
    "skewness_d0 = skew(d0['Alkhol'])\n",
    "kurtosis_d0 = kurtosis(d0['Alkhol'], fisher=False)\n",
    "\n",
    "skewness_d1 = skew(d1['Alkhol'])\n",
    "kurtosis_d1 = kurtosis(d1['Alkhol'], fisher=False)\n",
    "\n",
    "# Tạo bảng với các chỉ số tính toán\n",
    "x = [\n",
    "    describe_d1['count'],        # count\n",
    "    describe_d1['min'],          # min\n",
    "    describe_d1['max'],          # max\n",
    "    describe_d1['mean'],         # mean\n",
    "    describe_d1['std'],          # std (độ lệch chuẩn)\n",
    "    describe_d1['std'] ** 2,     # variance (phương sai)\n",
    "    describe_d1['50%'],          # median\n",
    "    describe_d1['min'],          # Quantile 0%\n",
    "    describe_d1['25%'],          # Quantile 25%\n",
    "    describe_d1['50%'],          # Quantile 50%\n",
    "    describe_d1['75%'],          # Quantile 75%\n",
    "    iqr_d1,                      # IQR (Interquartile Range)\n",
    "    skewness_d1,                 # Skewness\n",
    "    kurtosis_d1                  # Kurtosis\n",
    "]\n",
    "\n",
    "y = [\n",
    "    describe_d0['count'],        # count\n",
    "    describe_d0['min'],          # min\n",
    "    describe_d0['max'],          # max\n",
    "    describe_d0['mean'],         # mean\n",
    "    describe_d0['std'],          # std (độ lệch chuẩn)\n",
    "    describe_d0['std'] ** 2,     # variance (phương sai)\n",
    "    describe_d0['50%'],          # median\n",
    "    describe_d0['min'],          # Quantile 0%\n",
    "    describe_d0['25%'],          # Quantile 25%\n",
    "    describe_d0['50%'],          # Quantile 50%\n",
    "    describe_d0['75%'],          # Quantile 75%\n",
    "    iqr_d0,                      # IQR (Interquartile Range)\n",
    "    skewness_d0,                 # Skewness\n",
    "    kurtosis_d0                  # Kurtosis\n",
    "]\n",
    "\n",
    "# Đặt tên cho các chỉ số\n",
    "index = ['count', 'min', 'max', 'mean', 'std', 'variance', 'median', \n",
    "         'Quantile 0%', 'Quantile 25%', 'Quantile 50%', \n",
    "         'Quantile 75%', 'IQR', 'Skewness', 'Kurtosis']\n",
    "\n",
    "# Tạo DataFrame với các chỉ số\n",
    "df = pd.DataFrame({'Mắc ung thư phổi': x, 'Không mắc ung thư phổi': y}, index=index)\n",
    "\n",
    "# In kết quả\n",
    "df\n"
   ]
  },
  {
   "cell_type": "markdown",
   "metadata": {},
   "source": [
    "#### 4.1. Xét tập dữ liệu lượng rượu tiêu thụ của người mắc bệnh ung thư phổi\n",
    "\n",
    "**Tính biến động của dữ liệu:**\n",
    "- **Phương sai (variance):** var = 2.787037\n",
    "- **Độ lệch chuẩn (standard deviation):** std = 1.669442\n",
    "- **Khoảng giá trị:** min = 3, max = 8 → range = 5\n",
    "- **Khoảng cách giữa 2 phần tư vị:** IQR = Q3 - Q1 = 6 - 4 = 2\n",
    "\n",
    "**Nhận xét:**\n",
    "Dữ liệu cho thấy khoảng giá trị không quá lớn, với các giá trị dao động từ 3 đến 8. Phần lớn các giá trị tập trung trong khoảng từ 4 đến 6 (IQR = 2), cho thấy sự tập trung tương đối. Độ lệch chuẩn (1.669442) và phương sai (2.787037) chỉ ra rằng mức độ phân tán quanh giá trị trung bình là vừa phải.\n",
    "\n",
    "**Hình dạng phân bố của dữ liệu:**\n",
    "- **Độ lệch (Skewness):** 0.422538\n",
    "- **Độ bè nhọn của đỉnh dữ liệu (Kurtosis):** 2.059723\n",
    "\n",
    "**Nhận xét:**  \n",
    "Dữ liệu có độ lệch dương nhẹ (Skewness = 0.422538), cho thấy có một số giá trị cao hơn trung bình. Độ bè nhọn của đỉnh dữ liệu (Kurtosis = 2.059723) cho thấy đỉnh hơi nhọn và dữ liệu phân bố gần trung bình.\n",
    "\n"
   ]
  },
  {
   "cell_type": "markdown",
   "metadata": {},
   "source": [
    "#### 4.2. Xét tập dữ liệu lượng rượu tiêu thụ của người không mắc bệnh ung thư phổi\n",
    "\n",
    "**Tính biến động của dữ liệu:**\n",
    "- **Phương sai (variance):** var = 1.251613\n",
    "- **Độ lệch chuẩn (standard deviation):** std = 1.118755\n",
    "- **Khoảng giá trị:** min = 0, max = 4 → range = 4\n",
    "- **Khoảng cách giữa 2 phần tư vị:** IQR = Q3 - Q1 = 2 - 0.5 = 1.5\n",
    "\n",
    "**Nhận xét:**\n",
    "Dữ liệu cho thấy khoảng giá trị nhỏ hơn so với trường hợp ung thư phổi (range = 4). Phần lớn các giá trị tập trung trong khoảng từ 0.5 đến 2 (IQR = 1.5), cho thấy dữ liệu tập trung chặt chẽ hơn. Độ lệch chuẩn (1.118755) và phương sai (1.251613) thấp hơn, thể hiện mức độ phân tán nhỏ hơn so với nhóm ung thư phổi.\n",
    "\n",
    "**Hình dạng phân bố của dữ liệu:**\n",
    "- **Độ lệch (Skewness):** 0.277695\n",
    "- **Độ bè nhọn của đỉnh dữ liệu (Kurtosis):** 2.268528\n",
    "\n",
    "**Nhận xét:**  \n",
    "Dữ liệu có độ lệch dương nhẹ (Skewness = 0.277695) nhưng ít hơn so với nhóm ung thư phổi. Đỉnh phân bố cũng hơi nhọn với giá trị Kurtosis là 2.268528.\n",
    "\n"
   ]
  },
  {
   "cell_type": "markdown",
   "metadata": {},
   "source": [
    "\n",
    "#### 4.3. So sánh các giá trị thống kê mô tả của hai tập dữ liệu\n",
    "\n",
    "| Thông số         | TH1: Ung thư phổi | TH2: Không ung thư phổi | Chênh lệch (TH2 - TH1) |\n",
    "|------------------|-------------------|-------------------------|------------------------|\n",
    "| **Std**          | 1.669442          | 1.118755                | -0.550687              |\n",
    "| **Var**          | 2.787037          | 1.251613                | -1.535424              |\n",
    "| **Range**        | 5                 | 4                       | -1                     |\n",
    "| **IQR**          | 2                 | 1.5                     | -0.5                   |\n",
    "\n",
    "**Nhận xét:**\n",
    "Sự biến động của dữ liệu trong hai trường hợp có sự khác biệt, với nhóm ung thư phổi có phân tán lớn hơn. Dữ liệu của nhóm không mắc bệnh ung thư phổi có xu hướng tập trung chặt chẽ hơn, với IQR và phương sai nhỏ hơn."
   ]
  },
  {
   "cell_type": "markdown",
   "metadata": {},
   "source": [
    "#### 4.4. Sự khác biệt về hình dạng phân bố của dữ liệu\n",
    "\n",
    "| Thông số  | TH1: Ung thư phổi | TH2: Không ung thư phổi | Chênh lệch (TH2 - TH1) |\n",
    "|-----------|-------------------|-------------------------|------------------------|\n",
    "| **Skewness**  | 0.422538          | 0.277695                | -0.144843              |\n",
    "| **Kurtosis**  | 2.059723          | 2.268528                | 0.208805               |\n",
    "\n",
    "**Nhận xét:**  \n",
    "Cả hai nhóm đều có độ lệch nhẹ về phía dương, nhưng nhóm ung thư phổi có độ lệch lớn hơn. Độ nhọn của đỉnh dữ liệu trong nhóm không mắc bệnh ung thư phổi cũng cao hơn, mặc dù sự chênh lệch không quá lớn."
   ]
  },
  {
   "cell_type": "markdown",
   "metadata": {},
   "source": [
    "#### 4.5. So sánh hai tập dữ liệu dựa vào các biểu diễn hình học"
   ]
  },
  {
   "cell_type": "markdown",
   "metadata": {},
   "source": [
    "##### Histogram"
   ]
  },
  {
   "cell_type": "code",
   "execution_count": 25,
   "metadata": {},
   "outputs": [],
   "source": [
    "import matplotlib.pyplot as plt\n",
    "\n",
    "# Tạo hàm vẽ histogram\n",
    "def plot_histogram(ax, data, color, title, label):\n",
    "    ax.hist(data, bins=10, alpha=0.7, color=color, rwidth=0.8)\n",
    "    ax.set_title(title)\n",
    "    ax.set_xlabel('Lượng rượu')\n",
    "    ax.set_ylabel('Tần suất')\n",
    "\n",
    "# Tạo subplot\n",
    "fig, axs = plt.subplots(1, 2, figsize=(12, 6))\n",
    "\n",
    "# Dữ liệu và thông số cho từng nhóm\n",
    "datasets = [\n",
    "    (d1['Alkhol'], 'blue', 'Lượng rượu tiêu thụ của người mắc ung thư phổi', 'Ung thư phổi'),\n",
    "    (d0['Alkhol'], 'orange', 'Lượng rượu tiêu thụ của người không mắc ung thư phổi', 'Không ung thư phổi')\n",
    "]\n",
    "\n",
    "# Vẽ histogram cho từng nhóm\n",
    "for ax, (data, color, title, label) in zip(axs, datasets):\n",
    "    plot_histogram(ax, data, color, title, label)\n",
    "\n",
    "# Hiển thị biểu đồ\n",
    "plt.tight_layout()  # Đảm bảo các biểu đồ không bị chồng lấn\n",
    "plt.show()\n"
   ]
  },
  {
   "cell_type": "markdown",
   "metadata": {},
   "source": [
    "#### Dựa vào Histogram, ta có nhận xét\n",
    "**Tính biến động của hai tập dữ liệu:** Cả hai tập dữ liệu đều có mức độ biến động tương tự nhau, với độ lệch chuẩn và phương sai cho thấy sự phân tán không lớn. Tuy nhiên, nhóm mắc bệnh ung thư phổi có mức độ biến động cao hơn với **IQR** (2) lớn hơn so với nhóm không mắc bệnh ung thư phổi (1.5).\n",
    "\n",
    "**Tính đối xứng của hai tập dữ liệu:** Tính đối xứng của hai tập dữ liệu cũng tương tự nhau. Cả hai đều có độ lệch dương, cho thấy có một số giá trị cao hơn trung bình, nhưng sự lệch không quá mạnh. Độ bè nhọn của đỉnh dữ liệu của nhóm mắc bệnh ung thư phổi (**Kurtosis = 2.059723**) thấp hơn một chút so với nhóm không mắc bệnh ung thư phổi (**Kurtosis = 2.268528**), cho thấy phần lớn giá trị tập trung gần trung bình.\n",
    "\n",
    "**Giá trị ngoại lệ:** Cả hai tập dữ liệu đều không có giá trị ngoại lệ đáng chú ý."
   ]
  },
  {
   "cell_type": "code",
   "execution_count": 27,
   "metadata": {},
   "outputs": [],
   "source": [
    "import matplotlib.pyplot as plt\n",
    "\n",
    "# Tạo hàm vẽ boxplot\n",
    "def create_boxplot(data_list, labels, title, ylabel):\n",
    "    plt.figure(figsize=(10, 6))\n",
    "    plt.boxplot(data_list, patch_artist=True, \n",
    "                boxprops=dict(facecolor='lightblue', edgecolor='blue', linewidth=1),  # Màu nền và màu viền\n",
    "                medianprops=dict(color='red', linewidth=2))\n",
    "\n",
    "    # Thêm tiêu đề và nhãn\n",
    "    plt.title(title)\n",
    "    plt.ylabel(ylabel)\n",
    "\n",
    "    # Thiết lập nhãn cho trục x\n",
    "    plt.xticks(range(1, len(labels) + 1), labels)\n",
    "\n",
    "    # Thêm lưới cho biểu đồ\n",
    "    plt.grid(axis='y', alpha=0.75)\n",
    "\n",
    "    # Hiển thị biểu đồ\n",
    "    plt.show()\n",
    "\n",
    "# Dữ liệu cho boxplot\n",
    "data = [d1['Alkhol'], d0['Alkhol']]\n",
    "labels = ['Ung thư phổi', 'Không mắc ung thư phổi']\n",
    "\n",
    "# Gọi hàm để tạo boxplot\n",
    "create_boxplot(data, labels, title='So sánh lượng rượu tiêu thụ của người mắc ung thư phổi và người không mắc ung thư phổi', ylabel='Lượng rượu')\n"
   ]
  },
  {
   "cell_type": "markdown",
   "metadata": {},
   "source": [
    "- **Khác biệt về vị trí:** Giá trị trung vị lượng rượu của trường hợp không mắc ung thư phổi nhỏ hơn so với trường hợp của người mắc ung thư phổi (1 và 5). Điều này cho thấy những người tiêu thụ lượng rượu cao hơn dễ có nguy cơ mắc ung thư phổi hơn.\n",
    "\n",
    "- **Giá trị ngoại lệ:** Cả hai nhóm dữ liệu đều không có giá trị ngoại lệ đáng chú ý.\n",
    "\n"
   ]
  }
 ],
 "metadata": {
  "kernelspec": {
   "display_name": "Python 3",
   "language": "python",
   "name": "python3"
  },
  "language_info": {
   "codemirror_mode": {
    "name": "ipython",
    "version": 3
   },
   "file_extension": ".py",
   "mimetype": "text/x-python",
   "name": "python",
   "nbconvert_exporter": "python",
   "pygments_lexer": "ipython3",
   "version": "3.12.5"
  }
 },
 "nbformat": 4,
 "nbformat_minor": 2
}
